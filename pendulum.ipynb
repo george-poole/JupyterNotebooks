{
 "cells": [
  {
   "cell_type": "markdown",
   "metadata": {},
   "source": [
    "# Time Period Of A Pendulum\n",
    "George Poole grp39@cam.ac.uk"
   ]
  },
  {
   "cell_type": "markdown",
   "metadata": {},
   "source": [
    "A pendulum consisting of a point mass attached to the end of a string of length $\\ell$ making an angle $\\theta$ to the vertical obeys the equation of motion\n",
    "\n",
    "$$\\ddot{\\theta}+\\frac{g}{\\ell}\\sin\\theta=0~~~.$$\n",
    "\n",
    "For small $\\theta$, the approximation $\\sin\\theta\\approx\\theta$ is often made, with yields a solution\n",
    "\n",
    "$$\\theta(t)\\approx\\alpha\\cos(\\sqrt{g/\\ell}t)$$\n",
    "\n",
    "with initial conditions $\\theta(0)=\\alpha$ and $\\dot{\\theta}(0)=0$, which gives a time period\n",
    "\n",
    "$$T\\approx2\\pi\\sqrt{\\frac{\\ell}{g}}~~~.$$\n",
    "\n",
    "But we want to do better than this. First note that \n",
    "\n",
    "$$\\ddot{\\theta}=\\frac{\\text{d}\\dot{\\theta}}{\\text{d}t}=\\dot{\\theta}\\frac{\\text{d}\\dot{\\theta}}{\\text{d}\\theta}$$\n",
    "\n",
    "which allows us to integrate the equation of motion with respect to $\\theta$. Writing $\\omega^2=g/\\ell$,\n",
    "\n",
    "$$\\int_0^{\\dot{\\theta}}\\dot{\\theta}'~\\text{d}\\dot{\\theta}'=-\\omega^2\\int_{\\alpha}^\\theta\\sin\\theta'~\\text{d}\\theta'$$\n",
    "\n",
    "$$\\dot{\\theta}^2=2\\omega^2(\\cos\\theta-\\cos\\alpha)$$\n",
    "\n",
    "$$\\int_{\\alpha}^{\\theta(t)}\\frac{\\text{d}\\theta'}{\\sqrt{\\cos\\theta'-\\cos\\alpha}}=\\pm\\sqrt{2}\\omega\\int_0^t~\\text{d}t'$$\n",
    "\n",
    "A quarter of the period is spent going from $\\theta=\\theta_0$ to $\\theta=0$, so taking the negative root gives\n",
    "\n",
    "$$\\tfrac{\\sqrt{2}}{4}\\omega T=\\int_0^{\\alpha}\\frac{\\text{d}\\theta}{\\sqrt{\\cos\\theta-\\cos\\alpha}}$$\n",
    "\n",
    "which is admittedly a difficult looking integral. Let's use the trigonometric identity \n",
    "\n",
    "$$\\cos\\theta=1-2\\sin^2(\\theta/2)$$\n",
    "\n",
    "to obtain\n",
    "\n",
    "$$\\tfrac{1}{2}\\omega T=\\int_0^{\\alpha}\\frac{\\text{d}\\theta}{\\sqrt{\\sin^2(\\alpha/2)-\\sin^2(\\theta/2)}}$$\n",
    "\n",
    "and then make the substitution\n",
    "\n",
    "$$\\sin({\\theta}/2)=\\sin({\\alpha}/2)\\sin\\phi$$\n",
    "\n",
    "to get\n",
    "\n",
    "$$\\tfrac{1}{4}\\omega T=\\int_0^{\\pi/2}\\frac{\\text{d}\\phi}{\\sqrt{1-\\sin^2({\\alpha}/2)\\sin^2\\phi}}~~~.$$\n",
    "\n",
    "We can something useful with the integrand since $\\sin^2({\\alpha}/2)\\sin^2\\phi<1$ in the interval of integration $0<\\phi<\\pi/2$ provided that $|\\theta_0|<\\pi$. Writing $\\Phi=\\sin({\\alpha}/2)\\sin\\phi$, a binomial expansion gives\n",
    "\n",
    "$$(1-\\Phi^2)^{-1/2}=1+\\tfrac{1}{2}\\Phi^2+\\tfrac{3}{8}\\Phi^4+\\dots+\\frac{(2k-1)!!}{2^kk!}\\Phi^{2k}+\\dots$$\n",
    "\n",
    "where the expression for the $k^{\\text{th}}$ term holds for $k\\geq1$. So we now just need to integrate powers of $\\sin\\phi$ to determine $T$.\n",
    "\n",
    "$$\\tfrac{1}{4}\\omega T=\\int_0^{\\pi/2}\\bigg[1+\\sum_{k=1}^{\\infty}\\frac{(2k-1)!!}{2^kk!}\\sin^{2k}(\\alpha/2)\\sin^{2k}\\phi\\bigg]~\\text{d}\\theta$$\n",
    "\n",
    "$$\\omega T=2\\pi+4\\sum_{k=1}^{\\infty}\\frac{(2k-1)!!}{2^kk!}\\sin^{2k}(\\alpha/2)\\int_0^{\\pi/2}\\sin^{2k}\\phi~\\text{d}\\theta$$\n",
    "\n",
    "Neglecting the series simply obtains our previous approximation $T\\approx2\\pi/\\omega$. Let's now investigate how trunctating the series affects the computed values of $T$.\n",
    "\n",
    "$$\\frac{\\omega T}{2\\pi}\\approx f_{\\alpha,N}=1+\\frac{2}{\\pi}\\sum_{k=1}^N\\frac{(2k-1)!!}{2^kk!}\\sin^{2k}(\\alpha/2)\\int_0^{\\pi/2}\\sin^{2k}\\phi~\\text{d}\\theta$$"
   ]
  },
  {
   "cell_type": "code",
   "execution_count": 92,
   "metadata": {},
   "outputs": [],
   "source": [
    "import numpy as np\n",
    "import scipy.special as sps\n",
    "from scipy.integrate import quad\n",
    "\n",
    "N=20\n",
    "theta_0=[0.0]*311\n",
    "\n",
    "for i in range(0,len(theta_0)):\n",
    "    theta_0[i]=i/100\n",
    "\n",
    "f=np.array([[1.0]*N]*len(theta_0))\n",
    "\n",
    "def integral(k):\n",
    "    func=lambda phi: np.sin(phi)**(2*k)\n",
    "    return quad(func,0,np.pi/2)[0]\n",
    "\n",
    "for i in range(0,len(theta_0)):\n",
    "    for terms in range(1,N+1):\n",
    "        for k in range(1,terms+1):\n",
    "            f[i][terms-1]=f[i][terms-1]+(2/np.pi)*sps.factorial2(2*k-1)*np.sin(theta_0[i]/2)**(2*k)*integral(2*k)/(sps.factorial(k)*2**k)      "
   ]
  },
  {
   "cell_type": "markdown",
   "metadata": {},
   "source": [
    "Taking discrete values $\\alpha=i\\Delta$ with integer $i\\geq0$ and integer $N\\geq1$, we can present $f_{\\alpha,N}$ as an array of values\n",
    "\n",
    "$$f(\\alpha,N)=\n",
    "\\begin{pmatrix}\n",
    "f_{0,1} & f_{0,2} & f_{0,3} & \\dots \\\\\n",
    "f_{\\Delta,1} & f_{\\Delta,2} & f_{\\Delta,3} & \\\\\n",
    "f_{2\\Delta,1} & f_{2\\Delta,2} & f_{2\\Delta,3} & \\\\\n",
    "\\vdots & & & \\ddots \\\\\n",
    "\\end{pmatrix}$$\n",
    "\n",
    "to be visualised as a heat map, which provides an indication of both the value and convergence of the approximation to the period."
   ]
  },
  {
   "cell_type": "code",
   "execution_count": 94,
   "metadata": {},
   "outputs": [
    {
     "data": {
      "image/png": "[encoded data removed]",
      "text/plain": [
       "<Figure size 432x288 with 2 Axes>"
      ]
     },
     "metadata": {},
     "output_type": "display_data"
    }
   ],
   "source": [
    "import seaborn as sns\n",
    "import matplotlib.pylab as plt\n",
    "\n",
    "fig1=sns.heatmap(f,linewidth=10**(-6))\n",
    "plt.axis('off')\n",
    "plt.show()"
   ]
  },
  {
   "cell_type": "code",
   "execution_count": null,
   "metadata": {},
   "outputs": [],
   "source": []
  }
 ],
 "metadata": {
  "kernelspec": {
   "display_name": "Python 3",
   "language": "python",
   "name": "python3"
  },
  "language_info": {
   "codemirror_mode": {
    "name": "ipython",
    "version": 3
   },
   "file_extension": ".py",
   "mimetype": "text/x-python",
   "name": "python",
   "nbconvert_exporter": "python",
   "pygments_lexer": "ipython3",
   "version": "3.6.5"
  }
 },
 "nbformat": 4,
 "nbformat_minor": 2
}
