{
 "cells": [
  {
   "cell_type": "markdown",
   "metadata": {},
   "source": [
    "# Projectile Motion\n",
    "George Poole grp39@cam.ac.uk"
   ]
  },
  {
   "cell_type": "markdown",
   "metadata": {},
   "source": [
    "In addition to being acted on by a gravitational force $-m\\textbf{g}$, a projectile will experience some kind of drag force $\\textbf{F}$ dependent on its velocity $\\textbf{v}$. This acts in adirection anti-parallel to $\\textbf{v}$, so we may write\n",
    "\n",
    "$$\\textbf{F}=-F(v)\\hat{\\textbf{v}}~~~,$$\n",
    "\n",
    "where $v=|\\textbf{v}|$. We can analyse $F(v)$ as a Taylor series\n",
    "\n",
    "$$F(v)=F(0)+vF'(0)+\\tfrac{1}{2}v^2F''(0)+\\dots~~~.$$\n",
    "\n",
    "There is no drag force when velocity is zero, so $F(0)=0$. Writing $k_{\\text{lin}}=F'(0)$ and $k_{\\text{quad}}=\\tfrac{1}{2}F''(0)$, we get\n",
    "\n",
    "$$F(v)\\approx k_{\\text{lin}}v+k_{\\text{quad}}v^2~~~.$$\n",
    "\n",
    "The case $k_{\\text{lin}}\\neq 0, k_{\\text{quad}}=0$ is pure linear drag, whilst the case $k_{\\text{lin}}=0, k_{\\text{quad}}\\neq0$ is pure quadratic drag. Returning to the equation of motion,\n",
    "\n",
    "$$m\\frac{\\text{d}\\textbf{v}}{\\text{d}t}=-m\\textbf{g}-k_{\\text{lin}}\\textbf{v}+k_{\\text{quad}}v\\textbf{v}~~~.$$\n",
    "\n",
    "The zero drag case $k_{\\text{lin}}=k_{\\text{quad}}=0$ gives the familar solution\n",
    "\n",
    "$$\\textbf{x}=\\textbf{x}_0+t\\textbf{v}_0-\\tfrac{1}{2}t^2\\textbf{g}$$\n",
    "\n",
    "where $\\textbf{x}_0, \\textbf{v}_0$ are the initial position and velocity. The linear drag case also has an exact solution, found by multiplying through by an appropriate integrating factor:\n",
    "\n",
    "$$\\frac{\\text{d}\\textbf{v}}{\\text{d}t}+\\frac{k_{\\text{lin}}}{m}\\textbf{v}=-\\textbf{g}$$\n",
    "\n",
    "$$\\frac{\\text{d}}{\\text{d}t}(e^{k_{\\text{lin}}t/m}\\textbf{v})=-e^{k_{\\text{lin}}t/m}\\textbf{g}$$\n",
    "\n",
    "$$\\textbf{v}=-\\frac{m}{k_{\\text{lin}}}\\textbf{g}+(\\textbf{v}_0+\\frac{m}{k_{\\text{lin}}}\\textbf{g})e^{-k_{\\text{lin}}t/m}$$\n",
    "\n",
    "$$\\textbf{x}=\\textbf{x}_0-\\frac{mt}{k_{\\text{lin}}}\\textbf{g}+\\frac{m}{k_{\\text{lin}}}(\\textbf{v}_0+\\frac{m}{k}\\textbf{g})(1-e^{-k_{\\text{lin}}t/m})~~~.$$\n",
    "\n",
    "For $k_{\\text{quad}}\\neq 0$, an exact solution cannot be obtained and numerical integration is necessary.\n",
    "\n",
    "It also useful to caculate the total time of flight $T$, which is the total time elasped between launch and when the projectile next hits the horizontal ground. In the cases of zero and linear drag, we have\n",
    "\n",
    "$$T_{\\text{zd}}=\\frac{2v_0\\sin\\theta}{g}$$\n",
    "\n",
    "and the transcendental equation\n",
    "\n",
    "$$\\frac{mgT_{\\text{lin}}}{k_{\\text{lin}}}=\\frac{m}{k_{\\text{lin}}}(v_0\\sin\\theta+\\frac{mg}{k_{\\text{lin}}})(1-e^{-k_{\\text{lin}}t/m})$$\n",
    "\n",
    "which is to be solved numerically for $T_{\\text{lin}}$.\n",
    "\n",
    "The Python program below plots trajectories for three different cases, zero drag, linear drag and quadratic drag, with initial conditions $\\textbf{x}_0=(0,0)$ and $\\textbf{v}_0=(v_0\\cos\\theta,v_0\\sin\\theta)$."
   ]
  },
  {
   "cell_type": "code",
   "execution_count": 7,
   "metadata": {},
   "outputs": [
    {
     "data": {
      "image/png": "[encoded data removed]",
      "text/plain": [
       "<Figure size 432x288 with 1 Axes>"
      ]
     },
     "metadata": {},
     "output_type": "display_data"
    }
   ],
   "source": [
    "import numpy as np\n",
    "import matplotlib.pyplot as plt\n",
    "from sympy import Symbol, solve, exp\n",
    "from scipy.integrate import odeint\n",
    "\n",
    "v0=10\n",
    "theta=45\n",
    "theta=np.radians(theta)\n",
    "m=1\n",
    "g=9.81\n",
    "\n",
    "k_lin=0.5\n",
    "k_quad=0.5\n",
    "\n",
    "T_zd=float(2*v0*np.sin(theta)/g)\n",
    "\n",
    "x=Symbol('x')\n",
    "T_lin=solve(-(m*x*g/k_lin)+(m/k_lin)*(v0*np.sin(theta)+(m*g/k_lin))*(1-exp(-k_lin*x/m)))\n",
    "T_lin=float(T_lin[0])\n",
    "\n",
    "t=np.linspace(0,T_zd,num=100)\n",
    "zd_x=v0*np.cos(theta)*t\n",
    "zd_y=v0*np.sin(theta)*t-0.5*g*t**2\n",
    "plt.plot(zd_x,zd_y,color='g')\n",
    "\n",
    "t=np.linspace(0,T_lin,num=100)\n",
    "lin_x=(m/k_lin)*v0*np.cos(theta)*(1-np.exp(-k_lin*t/m))\n",
    "lin_y=-(m*t*g/k_lin)+(m/k_lin)*(v0*np.sin(theta)+(m*g/k_lin))*(1-np.exp(-k_lin*t/m))\n",
    "plt.plot(lin_x,lin_y,color='b')\n",
    "\n",
    "def quad_dxdt(x,t):\n",
    "    x1,x2,x3,x4=x\n",
    "    dx1dt=x3\n",
    "    dx2dt=x4\n",
    "    dx3dt=-k_quad*np.sqrt(x3**2+x4**2)*x3/m\n",
    "    dx4dt=-g-k_quad*np.sqrt(x3**2+x4**2)*x4/m\n",
    "    return dx1dt, dx2dt, dx3dt, dx4dt\n",
    "\n",
    "x_0=[0,0,v0*np.cos(theta),v0*np.sin(theta)]\n",
    "t=np.linspace(0,T_lin,num=1000)\n",
    "x1,x2,x3,x4=odeint(quad_dxdt,x_0,t).T\n",
    "\n",
    "for i in range(0,len(x2)):\n",
    "    if x2[i]>=0:\n",
    "        index=i\n",
    "        \n",
    "plt.rc('text',usetex=True)\n",
    "plt.rc('font',family='serif')     \n",
    "\n",
    "plt.plot(x1[0:index+1], x2[0:index+1],color='r')\n",
    "plt.legend(['no drag','linear','quadratic'])\n",
    "plt.xlabel('$x$')\n",
    "plt.ylabel('$y$')\n",
    "\n",
    "plt.show()"
   ]
  },
  {
   "cell_type": "markdown",
   "metadata": {},
   "source": [
    "## Related Courses\n",
    "\n",
    "* Dynamics & Relativity, Part IA Mathematics\n",
    "* Dynamics, Part IA Physics"
   ]
  },
  {
   "cell_type": "code",
   "execution_count": null,
   "metadata": {},
   "outputs": [],
   "source": []
  }
 ],
 "metadata": {
  "kernelspec": {
   "display_name": "Python 3",
   "language": "python",
   "name": "python3"
  },
  "language_info": {
   "codemirror_mode": {
    "name": "ipython",
    "version": 3
   },
   "file_extension": ".py",
   "mimetype": "text/x-python",
   "name": "python",
   "nbconvert_exporter": "python",
   "pygments_lexer": "ipython3",
   "version": "3.7.4"
  }
 },
 "nbformat": 4,
 "nbformat_minor": 2
}
