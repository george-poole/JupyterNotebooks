{
 "cells": [
  {
   "cell_type": "markdown",
   "metadata": {},
   "source": [
    "# Further Work\n",
    "\n",
    "## Anisotropic Case \n",
    "\n",
    "Suppose now that the polymer moleclule has a preferred direction, so $\\langle\\cos\\theta_n\\rangle\\neq0$.\n",
    "\n",
    "## Regular & Irregular Singular Points\n",
    "\n",
    "also radius of convergence\n",
    "\n",
    "## Square Wave\n",
    "\n",
    "A travelling square wave is given by the Fourier series\n",
    "\n",
    "$$\\begin{align}\n",
    "\\Psi(x,t)&=\\cos(kx-\\omega(k)t)-\\tfrac{1}{3}\\cos(kx-\\omega(k)t)+\\tfrac{1}{5}\\cos(kx-\\omega(k)t)+\\dots\\\\\n",
    "&\\approx\\sum_{m=0}^{m_0}\\frac{(-1)^m}{2m+1}\\cos(k_mx-\\omega(k_m)t)\n",
    "\\end{align}$$\n",
    "\n",
    "if we truncate after a sufficiently large number of terms. We now have $k_m=(2m+1)k$ as the wavevector of $m^{\\text{th}}$ component."
   ]
  },
  {
   "cell_type": "code",
   "execution_count": null,
   "metadata": {},
   "outputs": [],
   "source": [
    "def Psi(x,t):\n",
    "    Psi=0\n",
    "    for m in range(0,m_0+1):\n",
    "        k_m=(2*m+1)*k\n",
    "        Psi=Psi+((-1)**m/(2*m+1))*cosine(k_m,x,t)\n",
    "    return Psi\n",
    "\n",
    "x2=np.linspace(0,30,num=1000)\n",
    "t2=[0,np.pi,2*np.pi]\n",
    "\n",
    "for time in t2:\n",
    "    plt.plot(x2,Psi(x2,0),lw=0.5)\n",
    "    \n",
    "plt.show()"
   ]
  },
  {
   "cell_type": "markdown",
   "metadata": {},
   "source": [
    "## Fourier Series\n",
    "\n",
    "Obtain exact Fourier coefficients $V^{(j)}$ \n",
    "\n",
    "## LaTeX\n",
    "\n",
    "matplotlib plots not correctly displaying LateX captions\n",
    "\n",
    "## Inverted Pendulum\n",
    "\n",
    "add diagram of rod, mass and applied force\n",
    "\n",
    "add stability plot in parameter space\n",
    "\n",
    "## Joukowski Transformation\n",
    "\n",
    "plot of fluid flow arounf aerofoil\n",
    "\n",
    "## Ideas\n",
    "\n",
    "predator prey systems, fast fourier transform, runge-kutta, lorenz system, Ising model and Metropolis algorithm"
   ]
  },
  {
   "cell_type": "code",
   "execution_count": null,
   "metadata": {},
   "outputs": [],
   "source": []
  }
 ],
 "metadata": {
  "kernelspec": {
   "display_name": "Python 3",
   "language": "python",
   "name": "python3"
  },
  "language_info": {
   "codemirror_mode": {
    "name": "ipython",
    "version": 3
   },
   "file_extension": ".py",
   "mimetype": "text/x-python",
   "name": "python",
   "nbconvert_exporter": "python",
   "pygments_lexer": "ipython3",
   "version": "3.7.4"
  }
 },
 "nbformat": 4,
 "nbformat_minor": 2
}
