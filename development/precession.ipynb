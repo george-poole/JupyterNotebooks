{
 "cells": [
  {
   "cell_type": "markdown",
   "metadata": {},
   "source": [
    "# Precession Of Planetary Orbits\n",
    "George Poole grp39@cam.ac.uk"
   ]
  },
  {
   "cell_type": "markdown",
   "metadata": {},
   "source": [
    "One of Newtonian gravity's shortcomings was its failure to explain the perihelion precession of Mercury. With a Newtonian gravitational potential\n",
    "\n",
    "$$\\Phi_N(r)=-\\frac{GM}{r}$$\n",
    "\n",
    "the equation for the shape of the orbit with $u=1/r$ \n",
    "\n",
    "$$\\frac{\\text{d}^2u}{\\text{d}\\phi^2}+u=\\frac{GM}{h^2}$$\n",
    "\n",
    "is obtained. This can be solved analytically, giving a solution\n",
    "\n",
    "$$r(\\phi)=\\frac{h^2/GM}{1+e\\cos\\theta}~~~$$\n",
    "\n",
    "if the initial conditions are chosen such that the planet is at its perihelion when $\\phi=0$."
   ]
  },
  {
   "cell_type": "code",
   "execution_count": 2,
   "metadata": {},
   "outputs": [],
   "source": [
    "import numpy as np\n",
    "import matplotlib.pyplot as plt\n",
    "from scipy.integrate import odeint"
   ]
  },
  {
   "cell_type": "markdown",
   "metadata": {},
   "source": [
    "A more detailed analysis shows that general relativity predicts a modification to right hand side of the differential equation for $u(\\phi)$, giving\n",
    "\n",
    "$$\\frac{\\text{d}^2u}{\\text{d}\\phi^2}+u=\\frac{GM}{h^2}+\\frac{3GM}{c^2}u^2~~~.$$\n",
    "\n",
    "This is now non-linear and only approximate solutions can be obtained. \n",
    "\n",
    "... calculations ...\n",
    "\n",
    "The perihelion advance by an angle\n",
    "\n",
    "$$\\Delta\\phi=\\frac{6\\pi GM}{a(1-e^2)c^2}$$\n",
    "\n",
    "every revolution. Clearly, this is only significant for small $a$ and $e\\approx 1$ which explains why precession of the highly eccentric orbit of Mercury close to the Sun is most noticeable."
   ]
  },
  {
   "cell_type": "code",
   "execution_count": 28,
   "metadata": {},
   "outputs": [
    {
     "data": {
      "image/png": "[encoded data removed]",
      "text/plain": [
       "<Figure size 432x288 with 1 Axes>"
      ]
     },
     "metadata": {},
     "output_type": "display_data"
    }
   ],
   "source": [
    "G=6.67*10**(-11)\n",
    "M=1.99*10**(30)\n",
    "c=3*10**8\n",
    "\n",
    "h=10**10\n",
    "\n",
    "angle=36\n",
    "\n",
    "def dx_dphi(x,phi):\n",
    "    u,dash_u=x\n",
    "    du_dphi=dash_u\n",
    "    d2u_dphi2=-u+(G*M)/(h**2)+(3*G*M*u**2)/(c**2)\n",
    "    return du_dphi, d2u_dphi2\n",
    "\n",
    "x_initial=[10**(-10),0]\n",
    "phi=np.linspace(0,angle,num=1000)\n",
    "u,dash_u=odeint(dx_dphi,x_initial,angle).T\n",
    "\n",
    "r=1/u\n",
    "\n",
    "x=r*np.cos(phi)\n",
    "y=r*np.sin(phi)\n",
    "\n",
    "plt.plot(x,y,lw=0.5,color='b')\n",
    "plt.plot(x[0],y[0],ms=5,color='r',marker='o')\n",
    "plt.plot(x[-1],y[-1],ms=5,color='b',marker='o')\n",
    "plt.plot(0,0,ms=15,color='g',marker='o')\n",
    "plt.axis('equal')\n",
    "\n",
    "e=0.9\n",
    "alpha=3*G**2*M**2/(c**2*h**2)\n",
    "\n",
    "u_approx=(1+e*np.cos(phi*(1-alpha)))*G*M/(h**2)\n",
    "\n",
    "r_approx=1/u\n",
    "x_approx=r*np.cos(phi)\n",
    "y_approx=r*np.sin(phi)\n",
    "plt.plot(x_approx,y_approx,lw=0.5,color='r')\n",
    "\n",
    "plt.show()"
   ]
  },
  {
   "cell_type": "markdown",
   "metadata": {},
   "source": [
    "## Related Courses\n",
    "\n",
    "* Relativity, Part II Physics\n",
    "* General Relativity, Part II Mathematics"
   ]
  },
  {
   "cell_type": "code",
   "execution_count": null,
   "metadata": {},
   "outputs": [],
   "source": []
  }
 ],
 "metadata": {
  "kernelspec": {
   "display_name": "Python 3",
   "language": "python",
   "name": "python3"
  },
  "language_info": {
   "codemirror_mode": {
    "name": "ipython",
    "version": 3
   },
   "file_extension": ".py",
   "mimetype": "text/x-python",
   "name": "python",
   "nbconvert_exporter": "python",
   "pygments_lexer": "ipython3",
   "version": "3.6.5"
  }
 },
 "nbformat": 4,
 "nbformat_minor": 2
}
