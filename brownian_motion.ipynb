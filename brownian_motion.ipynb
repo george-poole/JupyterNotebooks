{
 "cells": [
  {
   "cell_type": "markdown",
   "metadata": {},
   "source": [
    "# Brownian Motion\n",
    "George Poole grp39@cam.ac.uk"
   ]
  },
  {
   "cell_type": "markdown",
   "metadata": {},
   "source": [
    "Consider a particle of mass $m$ in a liquid. In addition to the drag force $-\\gamma\\textbf{u}$, it will experience some random force $\\boldsymbol{\\xi}(t)$ due to the random jostling of all other partices in the liquid:\n",
    "\n",
    "$$m\\frac{\\text{d}\\textbf{u}}{\\text{d}t}=-\\gamma\\textbf{u}(t)+\\boldsymbol{\\xi}(t)~~~.$$\n",
    "\n",
    "Clearly, we cannot solve this directly since $\\boldsymbol{\\xi}(t)$ is unknown. We can however deduce some interesting properties.\n",
    "\n",
    "By making the further assumption that the inertial term is zero, the problem effectively becomes a random walk.\n",
    "\n",
    "$$\\textbf{0}=-\\gamma\\textbf{u}(t)+\\boldsymbol{\\xi}(t)$$\n",
    "\n",
    "$$\\frac{\\text{d}\\textbf{x}}{\\text{d}t}=\\tfrac{1}{\\gamma}\\boldsymbol{\\xi}(t)~~~.$$"
   ]
  },
  {
   "cell_type": "markdown",
   "metadata": {},
   "source": [
    "We can ..."
   ]
  },
  {
   "cell_type": "markdown",
   "metadata": {},
   "source": [
    "The equation of motion can however be integrated numerically. A simple numerical method uses a small time step $\\Delta t$ to find the position $\\textbf{x}_n$ at the $n^{\\text{th}}$ step, given an initial position $\\textbf{x}_0$.\n",
    "\n",
    "$$\\Delta\\textbf{u}(t)=-(\\tfrac{\\gamma}{m}\\textbf{u}(t)+\\tfrac{1}{m}\\boldsymbol{\\xi}(t))\\Delta t$$\n",
    "\n",
    "$$\\Delta\\textbf{x}(t)=-(\\tfrac{\\gamma}{m}\\textbf{u}(t)+\\tfrac{1}{m}\\boldsymbol{\\xi}(t))(\\Delta t)^2$$\n",
    "\n",
    "$$\\textbf{x}_n(t)=\\textbf{x}_{n-1}(t)+\\Delta\\textbf{x}(t)$$\n",
    "\n",
    "The components of the random force $\\boldsymbol{\\xi}(t)$ may be taken to be uniformly distributed on the interval $[-f,f]$ for some value $f$.\n",
    "\n",
    "However, a problem with this method is evident: different $\\Delta t$ would lead to wildly different trajectories. It is necessary to define a certain small collision time period $\\tau_{\\text{coll}}$ over which the value of $\\boldsymbol{\\xi}(t)$ remains constant.\n",
    "\n",
    "The following Python program plots the trajectory of a particle confined to two dimensions for different values of the time step $\\Delta t$."
   ]
  },
  {
   "cell_type": "code",
   "execution_count": 11,
   "metadata": {},
   "outputs": [
    {
     "data": {
      "image/png": "[encoded data removed]",
      "text/plain": [
       "<Figure size 432x288 with 1 Axes>"
      ]
     },
     "metadata": {},
     "output_type": "display_data"
    }
   ],
   "source": [
    "import numpy as np\n",
    "import matplotlib.pyplot as plt\n",
    "import random as rand\n",
    "\n",
    "def random_force(f,T_coll,T_total):\n",
    "    #rand.seed(1234)\n",
    "    rand_X, rand_Y=[],[]\n",
    "    for i in range(0,int(T_total/T_coll)):\n",
    "        rand_X.append(rand.uniform(-f,f))\n",
    "        rand_Y.append(rand.uniform(-f,f))\n",
    "            \n",
    "    return rand_X, rand_Y\n",
    "        \n",
    "def trajectory(dt,gamma,mass,colour):\n",
    "    T_total=10\n",
    "    T_coll=0.0001\n",
    "    steps=int(T_total/dt)\n",
    "\n",
    "    x,y=0,0\n",
    "    u_x,u_y=0,0\n",
    "    x_vec,y_vec=[0],[0]\n",
    "                   \n",
    "    rand_X, rand_Y=random_force(1,T_coll,T_total)\n",
    "\n",
    "    for i in range(0,steps):\n",
    "        index=int(np.floor(i*dt))\n",
    "        du_x=(-gamma*u_x+rand_X[index])*dt/mass\n",
    "        du_y=(-gamma*u_y+rand_Y[index])*dt/mass\n",
    "        u_x=u_x+du_x\n",
    "        u_y=u_y+du_y\n",
    "        dx=u_x*dt\n",
    "        dy=u_y*dt\n",
    "        x=x+dx\n",
    "        y=y+dy\n",
    "        x_vec.append(x)\n",
    "        y_vec.append(y)\n",
    "\n",
    "    plt.axis('equal')\n",
    "    plt.plot(x_vec,y_vec,lw=0.5,color=colour)\n",
    "    \n",
    "gamma=2\n",
    "mass=10\n",
    "\n",
    "trajectory(0.001,gamma,mass,'b')\n",
    "trajectory(0.002,gamma,mass,'r')\n",
    "plt.show()"
   ]
  },
  {
   "cell_type": "markdown",
   "metadata": {},
   "source": [
    "## References\n",
    "* Part II Physics, Thermal & Statistical Physics\n",
    "* DAMTP Graduate Course, Kinetic Theory"
   ]
  },
  {
   "cell_type": "code",
   "execution_count": 58,
   "metadata": {},
   "outputs": [
    {
     "data": {
      "text/plain": [
       "(1, 0)"
      ]
     },
     "execution_count": 58,
     "metadata": {},
     "output_type": "execute_result"
    }
   ],
   "source": [
    "random_force(12.3,1,0.001)"
   ]
  },
  {
   "cell_type": "code",
   "execution_count": null,
   "metadata": {},
   "outputs": [],
   "source": []
  }
 ],
 "metadata": {
  "kernelspec": {
   "display_name": "Python 3",
   "language": "python",
   "name": "python3"
  },
  "language_info": {
   "codemirror_mode": {
    "name": "ipython",
    "version": 3
   },
   "file_extension": ".py",
   "mimetype": "text/x-python",
   "name": "python",
   "nbconvert_exporter": "python",
   "pygments_lexer": "ipython3",
   "version": "3.6.5"
  }
 },
 "nbformat": 4,
 "nbformat_minor": 2
}
