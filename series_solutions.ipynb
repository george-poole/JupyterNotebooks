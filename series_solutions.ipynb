{
 "cells": [
  {
   "cell_type": "markdown",
   "metadata": {},
   "source": [
    "# Series Solutions\n",
    "George Poole grp39@cam.ac.uk"
   ]
  },
  {
   "cell_type": "markdown",
   "metadata": {},
   "source": [
    "## Ordinary Points"
   ]
  },
  {
   "cell_type": "markdown",
   "metadata": {},
   "source": [
    "Consider the differential equation\n",
    "\n",
    "$$r(x)y''(x)+p(x)y'(x)+r(x)y(x)=0~~~.$$\n",
    "\n",
    "If both $p(x)/r(x)$ and $q(x)/r(x)$ are analytic at the point $x=x_0$, then $x=x_0$ is said to be a ordinary point. Series solutions about this point take the form\n",
    "\n",
    "$$y(x)=\\sum_{n=0}^\\infty a_n(x-x_0)^n$$\n",
    "\n",
    "so substituting this in gives\n",
    "\n",
    "$$0=\\sum_{n=0}^\\infty n(n-1)a_nr(x)(x-x_0)^{n-2}+na_np(x)(x-x_0)^{n-1}+a_nq(x)(x-x_0)^n~~~.$$\n",
    "\n",
    "In general $r(x), p(x), q(x)$ can be any functions provided that $p(x)/r(x)$ and $q(x)/r(x)$ are analytic at $x=x_0$. These would then be written as Taylor series about $x=x_0$. For simplicity, let's consider the case where $r(x), p(x), q(x)$ are cubic polynomials; this is the most commonly observed case anyway. We write\n",
    "\n",
    "$$r(x)=r_0+r_1x+r_2x^2+r_3x^3$$\n",
    "\n",
    "and similarly for $p(x), q(x)$.\n",
    "\n",
    "We then get coefficients for each of $x^{n-2},\\dots, x^{n+3}$.\n",
    "\n",
    "$$\\begin{align}\n",
    "&x^{n-2}~:~\\alpha(n)=n(n-1)a_nr_0\\\\\n",
    "&x^{n-1}~:~\\beta(n)=n(n-1)a_nr_1+na_np_0\\\\\n",
    "&x^n~~~~:~\\gamma(n)=n(n-1)a_nr_2+na_np_1+a_nq_0\\\\\n",
    "&x^{n+1}~:~\\delta(n)=n(n-1)a_nr_3+na_np_2+a_nq_1\\\\\n",
    "&x^{n+2}~:~\\epsilon(n)=na_np_3+a_nq_2\\\\\n",
    "&x^{n+3}~:~\\zeta(n)=a_nq_3\n",
    "\\end{align}$$\n",
    "\n",
    "so we can write\n",
    "\n",
    "$$0=\\sum_{n=0}^\\infty[\\alpha(n+2)+\\beta(n+1)+\\gamma(n)+\\delta(n-1)+\\epsilon(n-2)+\\zeta(n-3)](x-x_0)^n$$\n",
    "\n",
    "and therefore \n",
    "\n",
    "$$\\alpha(n+2)+\\beta(n+1)+\\gamma(n)+\\delta(n-1)+\\epsilon(n-2)+\\zeta(n-3)=0$$\n",
    "\n",
    "for all $n\\geq0$. From this we get the recurrence relation\n",
    "\n",
    "$$[(n+2)(n+1)r_0]a_{n+2}+[(n+1)nr_1+(n+1)p_0]a_{n+1}+[]a_n+[]a_{n-1}+[]a_{n-2}+q_3a_{n-3}+=0$$\n",
    "\n",
    "$$a_{n+2}=-\\frac{(n+1)nr_1+(n+1)p_0}{(n+2)(n+1)r_0}a_{n+1}-\\frac{n(n-1)r_2+np_1+q_0}{(n+2)(n+1)r_0}a_n\\dots$$\n",
    "\n",
    "for all $n\\geq0$. Note that $a_n=0$ for $n\\leq1$ and $a_0,a_1$ are arbitrary constants. \n",
    "\n",
    "As an example, let's consider\n",
    "\n",
    "$$r(x)=1+x^3$$\n",
    "\n",
    "$$p(x)=1$$\n",
    "\n",
    "$$q(x)=1$$\n",
    "\n",
    "for which the differential has an ordinary point at $x=x_0=0$. The Python program below computes the coefficients of the truncated series solution\n",
    "\n",
    "$$y(x)\\approx\\sum_{n=0}^Na_n(x-x_0)^n~~~,$$\n",
    "\n",
    "taking the arbitrary constant as $a_0=a_1=1$."
   ]
  },
  {
   "cell_type": "code",
   "execution_count": 150,
   "metadata": {},
   "outputs": [],
   "source": [
    "x_0=0\n",
    "a_0=1\n",
    "a_1=1\n",
    "N=20\n",
    "\n",
    "poly=3\n",
    "\n",
    "r=[1,0,0,1]\n",
    "p=[1,0,0,0]\n",
    "q=[1,0,0,0]\n",
    "\n",
    "def denom(n):\n",
    "    return (n+2)*(n+1)*r[0]\n",
    "\n",
    "def func1(n):\n",
    "    return ((n+1)*n*r[1]+(n+1)*p[0])/denom(n)\n",
    "\n",
    "def func2(n):\n",
    "    return (n*(n-1)*r[2]+n*p[1]+q[0])/denom(n)\n",
    "\n",
    "def func3(n):\n",
    "    return ((n-1)*(n-2)*r[3]+(n-1)*p[2]+q[1])/denom(n)\n",
    "\n",
    "def func4(n):\n",
    "    return ((n-2)*p[3]+q[2])/denom(n)\n",
    "\n",
    "def func5(n):\n",
    "    return q[3]/denom(n)\n",
    "\n",
    "a=[0.0]*(N+poly)\n",
    "a[0]=a_0\n",
    "a[1]=a_1\n",
    "\n",
    "for n in range(0,N-2):\n",
    "    a[n+2]=-func1(n)*a[n+1]-func2(n)*a[n]-func3(n)*a[n-1]-func4(n)*a[n-2]-func5(n)*a[n-3]\n",
    "\n",
    "new_a=[0.0]*N\n",
    "\n",
    "for n in range(0,N):\n",
    "    new_a[n]=a[n]\n",
    "    \n",
    "a=new_a"
   ]
  },
  {
   "cell_type": "markdown",
   "metadata": {},
   "source": [
    "Let's now compare our series solution with a numerical solution."
   ]
  },
  {
   "cell_type": "code",
   "execution_count": 151,
   "metadata": {},
   "outputs": [
    {
     "data": {
      "image/png": "[encoded data removed]",
      "text/plain": [
       "<Figure size 432x288 with 1 Axes>"
      ]
     },
     "metadata": {},
     "output_type": "display_data"
    }
   ],
   "source": [
    "import numpy as np\n",
    "import matplotlib.pyplot as plt\n",
    "from scipy.integrate import odeint\n",
    "\n",
    "def poly_r(x):\n",
    "    return r[0]+r[1]*x+r[2]*x**2+r[3]*x**3\n",
    "\n",
    "def poly_p(x):\n",
    "    return p[0]+p[1]*x+p[2]*x**2+p[3]*x**3\n",
    "\n",
    "def poly_q(x):\n",
    "    return q[0]+q[1]*x+q[2]*x**2+q[3]*x**3\n",
    "\n",
    "def dydx(Y,x):\n",
    "    y1,y2=Y\n",
    "    dy1dx=y2\n",
    "    dy2dx=-poly_p(x)*y2/poly_r(x)-poly_q(x)*y1/poly_r(x)\n",
    "    return dy1dx, dy2dx\n",
    "\n",
    "def series(x):\n",
    "    y=0\n",
    "    for n in range(0,N):\n",
    "        y=y+a[n]*(x-x_0)**n\n",
    "    return y\n",
    "\n",
    "Y_0=[a_0,a_1]\n",
    "x=np.linspace(0,1.3,num=1000)\n",
    "y1,y2=odeint(dydx,Y_0,x).T\n",
    "\n",
    "plt.plot(x,y1,lw=0.5,color='b')\n",
    "plt.plot(x,series(x),lw=0.5,color='r')\n",
    "plt.show()"
   ]
  },
  {
   "cell_type": "markdown",
   "metadata": {},
   "source": [
    "## Regular Singular Points"
   ]
  },
  {
   "cell_type": "markdown",
   "metadata": {},
   "source": [
    "under construction"
   ]
  },
  {
   "cell_type": "markdown",
   "metadata": {},
   "source": [
    "## Irregular Singular Points"
   ]
  },
  {
   "cell_type": "markdown",
   "metadata": {},
   "source": [
    "under construction"
   ]
  },
  {
   "cell_type": "markdown",
   "metadata": {},
   "source": [
    "## Related Courses\n",
    "\n",
    "* Differential Equations, Part IA Mathematics\n",
    "* Mathematical Methods I, Part IB NST Mathematics\n",
    "* Asymptotic Methods, Part II Mathematics"
   ]
  },
  {
   "cell_type": "code",
   "execution_count": null,
   "metadata": {},
   "outputs": [],
   "source": []
  }
 ],
 "metadata": {
  "kernelspec": {
   "display_name": "Python 3",
   "language": "python",
   "name": "python3"
  },
  "language_info": {
   "codemirror_mode": {
    "name": "ipython",
    "version": 3
   },
   "file_extension": ".py",
   "mimetype": "text/x-python",
   "name": "python",
   "nbconvert_exporter": "python",
   "pygments_lexer": "ipython3",
   "version": "3.6.5"
  }
 },
 "nbformat": 4,
 "nbformat_minor": 2
}
